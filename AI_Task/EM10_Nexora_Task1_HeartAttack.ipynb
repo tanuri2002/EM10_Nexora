{
  "nbformat": 4,
  "nbformat_minor": 0,
  "metadata": {
    "colab": {
      "provenance": []
    },
    "kernelspec": {
      "name": "python3",
      "display_name": "Python 3"
    },
    "language_info": {
      "name": "python"
    }
  },
  "cells": [
    {
      "cell_type": "code",
      "execution_count": 1,
      "metadata": {
        "colab": {
          "base_uri": "https://localhost:8080/"
        },
        "id": "5zTHXZGik2WS",
        "outputId": "c0e38ce1-203a-4055-95f1-402c88829619"
      },
      "outputs": [
        {
          "output_type": "stream",
          "name": "stdout",
          "text": [
            "Requirement already satisfied: gdown in /usr/local/lib/python3.12/dist-packages (5.2.0)\n",
            "Requirement already satisfied: beautifulsoup4 in /usr/local/lib/python3.12/dist-packages (from gdown) (4.13.5)\n",
            "Requirement already satisfied: filelock in /usr/local/lib/python3.12/dist-packages (from gdown) (3.19.1)\n",
            "Requirement already satisfied: requests[socks] in /usr/local/lib/python3.12/dist-packages (from gdown) (2.32.4)\n",
            "Requirement already satisfied: tqdm in /usr/local/lib/python3.12/dist-packages (from gdown) (4.67.1)\n",
            "Requirement already satisfied: soupsieve>1.2 in /usr/local/lib/python3.12/dist-packages (from beautifulsoup4->gdown) (2.8)\n",
            "Requirement already satisfied: typing-extensions>=4.0.0 in /usr/local/lib/python3.12/dist-packages (from beautifulsoup4->gdown) (4.15.0)\n",
            "Requirement already satisfied: charset_normalizer<4,>=2 in /usr/local/lib/python3.12/dist-packages (from requests[socks]->gdown) (3.4.3)\n",
            "Requirement already satisfied: idna<4,>=2.5 in /usr/local/lib/python3.12/dist-packages (from requests[socks]->gdown) (3.10)\n",
            "Requirement already satisfied: urllib3<3,>=1.21.1 in /usr/local/lib/python3.12/dist-packages (from requests[socks]->gdown) (2.5.0)\n",
            "Requirement already satisfied: certifi>=2017.4.17 in /usr/local/lib/python3.12/dist-packages (from requests[socks]->gdown) (2025.8.3)\n",
            "Requirement already satisfied: PySocks!=1.5.7,>=1.5.6 in /usr/local/lib/python3.12/dist-packages (from requests[socks]->gdown) (1.7.1)\n",
            "/usr/local/lib/python3.12/dist-packages/gdown/__main__.py:140: FutureWarning: Option `--id` was deprecated in version 4.3.1 and will be removed in 5.0. You don't need to pass it anymore to use a file ID.\n",
            "  warnings.warn(\n",
            "Downloading...\n",
            "From: https://drive.google.com/uc?id=1OQWfTaTaRatB8gT3sg723LRtYYKBm5tU\n",
            "To: /content/train_heart.csv\n",
            "100% 1.32M/1.32M [00:00<00:00, 140MB/s]\n",
            "/usr/local/lib/python3.12/dist-packages/gdown/__main__.py:140: FutureWarning: Option `--id` was deprecated in version 4.3.1 and will be removed in 5.0. You don't need to pass it anymore to use a file ID.\n",
            "  warnings.warn(\n",
            "Downloading...\n",
            "From: https://drive.google.com/uc?id=1MznJKj9_X4TBgnkbMWfBSBv9jyCQ6krd\n",
            "To: /content/test_heart.csv\n",
            "100% 131k/131k [00:00<00:00, 96.4MB/s]\n",
            "Files downloaded! Check with !ls\n",
            "test_heart.csv\ttrain_heart.csv\n"
          ]
        }
      ],
      "source": [
        "# Install gdown for downloading from Google Drive\n",
        "!pip install gdown\n",
        "\n",
        "# Download train dataset\n",
        "!gdown --id 1OQWfTaTaRatB8gT3sg723LRtYYKBm5tU -O train_heart.csv\n",
        "\n",
        "# Download test dataset\n",
        "!gdown --id 1MznJKj9_X4TBgnkbMWfBSBv9jyCQ6krd -O test_heart.csv\n",
        "\n",
        "print(\"Files downloaded! Check with !ls\")\n",
        "!ls *.csv"
      ]
    },
    {
      "cell_type": "code",
      "source": [
        "import pandas as pd  # For loading/handling data\n",
        "import numpy as np   # For math stuff\n",
        "\n",
        "# Load train data\n",
        "train_df = pd.read_csv('Heart_Attack_training_dataset.csv')\n",
        "print(\"Train data shape:\", train_df.shape)\n",
        "print(\"\\nFirst 5 rows:\")\n",
        "print(train_df.head())\n",
        "\n",
        "# Load test data (same features, no target)\n",
        "test_df = pd.read_csv('Hear_Attack_evaluation_dataset.csv')\n",
        "print(\"\\nTest data shape:\", test_df.shape)\n",
        "print(\"\\nFirst 5 rows of test:\")\n",
        "print(test_df.head())\n",
        "\n",
        "# Quick explore: Info on columns (types, missing values)\n",
        "print(\"\\nTrain info:\")\n",
        "train_df.info()\n",
        "print(\"\\nMissing values in train:\")\n",
        "print(train_df.isnull().sum())"
      ],
      "metadata": {
        "colab": {
          "base_uri": "https://localhost:8080/"
        },
        "id": "2-i82ecplaRg",
        "outputId": "add19bea-94ca-42f1-829e-e4dd5725e97b"
      },
      "execution_count": 9,
      "outputs": [
        {
          "output_type": "stream",
          "name": "stdout",
          "text": [
            "Train data shape: (7963, 26)\n",
            "\n",
            "First 5 rows:\n",
            "  patient_id  age     sex  chol       bp  hr  diabetes  family_history  \\\n",
            "0    BMW7812   67    Male   208   158/88  72         0               0   \n",
            "1    CZE1114   21    Male   389   165/93  98         1               1   \n",
            "2    BNI9906   21  Female   324   174/99  72         1               0   \n",
            "3    JLN3497   84    Male   383  163/100  73         1               1   \n",
            "4    GFO8847   66    Male   318    91/88  93         1               1   \n",
            "\n",
            "   smoking  obesity  ...  sedentary_hr  income        bmi  triglycerides  \\\n",
            "0        1        0  ...      6.615001  261404  31.251233            286   \n",
            "1        1        1  ...      4.963459  285768  27.194973            235   \n",
            "2        0        0  ...      9.463426  235282  28.176571            587   \n",
            "3        1        0  ...      7.648981  125640  36.464704            378   \n",
            "4        1        1  ...      1.514821  160555  21.809144            231   \n",
            "\n",
            "   phys_act_days  sleep_hr    country      continent           hemisphere  \\\n",
            "0              0         6  Argentina  South America  Southern Hemisphere   \n",
            "1              1         7     Canada  North America  Northern Hemisphere   \n",
            "2              4         4     France         Europe  Northern Hemisphere   \n",
            "3              3         4     Canada  North America  Northern Hemisphere   \n",
            "4              1         5   Thailand           Asia  Northern Hemisphere   \n",
            "\n",
            "   heart_attack_risk  \n",
            "0                  0  \n",
            "1                  0  \n",
            "2                  0  \n",
            "3                  0  \n",
            "4                  0  \n",
            "\n",
            "[5 rows x 26 columns]\n",
            "\n",
            "Test data shape: (800, 25)\n",
            "\n",
            "First 5 rows of test:\n",
            "  patient_id  age     sex  chol       bp   hr  diabetes  family_history  \\\n",
            "0    VRK5064   36    Male   164  118/103   46         1               1   \n",
            "1    NEN2365   66    Male   355   158/89   49         0               0   \n",
            "2    KXT2493   59  Female   370   172/81  104         0               0   \n",
            "3    TKO0406   88    Male   296   178/67   53         1               0   \n",
            "4    GDP2405   74    Male   294   130/67  105         1               1   \n",
            "\n",
            "   smoking  obesity  ...  stress_lvl  sedentary_hr  income        bmi  \\\n",
            "0        1        0  ...           3      5.808121  291026  32.636491   \n",
            "1        1        1  ...           9      3.108304   96002  26.396081   \n",
            "2        1        0  ...           6      8.220722  277303  18.920591   \n",
            "3        1        1  ...           6      5.974984  122979  25.688879   \n",
            "4        1        0  ...           1     10.180945  118594  39.937584   \n",
            "\n",
            "   triglycerides  phys_act_days  sleep_hr         country      continent  \\\n",
            "0            320              3         4     South Korea           Asia   \n",
            "1            709              0         7  United Kingdom         Europe   \n",
            "2             53              4         5   United States  North America   \n",
            "3             86              1        10     New Zealand      Australia   \n",
            "4            138              7         9           Japan           Asia   \n",
            "\n",
            "            hemisphere  \n",
            "0  Northern Hemisphere  \n",
            "1  Northern Hemisphere  \n",
            "2  Northern Hemisphere  \n",
            "3  Southern Hemisphere  \n",
            "4  Northern Hemisphere  \n",
            "\n",
            "[5 rows x 25 columns]\n",
            "\n",
            "Train info:\n",
            "<class 'pandas.core.frame.DataFrame'>\n",
            "RangeIndex: 7963 entries, 0 to 7962\n",
            "Data columns (total 26 columns):\n",
            " #   Column             Non-Null Count  Dtype  \n",
            "---  ------             --------------  -----  \n",
            " 0   patient_id         7963 non-null   object \n",
            " 1   age                7963 non-null   int64  \n",
            " 2   sex                7963 non-null   object \n",
            " 3   chol               7963 non-null   int64  \n",
            " 4   bp                 7963 non-null   object \n",
            " 5   hr                 7963 non-null   int64  \n",
            " 6   diabetes           7963 non-null   int64  \n",
            " 7   family_history     7963 non-null   int64  \n",
            " 8   smoking            7963 non-null   int64  \n",
            " 9   obesity            7963 non-null   int64  \n",
            " 10  alcohol            7963 non-null   int64  \n",
            " 11  exercise_hr_wk     7963 non-null   float64\n",
            " 12  diet               7963 non-null   object \n",
            " 13  prev_heart_prob    7963 non-null   int64  \n",
            " 14  med_use            7963 non-null   int64  \n",
            " 15  stress_lvl         7963 non-null   int64  \n",
            " 16  sedentary_hr       7963 non-null   float64\n",
            " 17  income             7963 non-null   int64  \n",
            " 18  bmi                7963 non-null   float64\n",
            " 19  triglycerides      7963 non-null   int64  \n",
            " 20  phys_act_days      7963 non-null   int64  \n",
            " 21  sleep_hr           7963 non-null   int64  \n",
            " 22  country            7963 non-null   object \n",
            " 23  continent          7963 non-null   object \n",
            " 24  hemisphere         7963 non-null   object \n",
            " 25  heart_attack_risk  7963 non-null   int64  \n",
            "dtypes: float64(3), int64(16), object(7)\n",
            "memory usage: 1.6+ MB\n",
            "\n",
            "Missing values in train:\n",
            "patient_id           0\n",
            "age                  0\n",
            "sex                  0\n",
            "chol                 0\n",
            "bp                   0\n",
            "hr                   0\n",
            "diabetes             0\n",
            "family_history       0\n",
            "smoking              0\n",
            "obesity              0\n",
            "alcohol              0\n",
            "exercise_hr_wk       0\n",
            "diet                 0\n",
            "prev_heart_prob      0\n",
            "med_use              0\n",
            "stress_lvl           0\n",
            "sedentary_hr         0\n",
            "income               0\n",
            "bmi                  0\n",
            "triglycerides        0\n",
            "phys_act_days        0\n",
            "sleep_hr             0\n",
            "country              0\n",
            "continent            0\n",
            "hemisphere           0\n",
            "heart_attack_risk    0\n",
            "dtype: int64\n"
          ]
        }
      ]
    },
    {
      "cell_type": "code",
      "source": [
        "from sklearn.preprocessing import StandardScaler, OneHotEncoder\n",
        "from sklearn.compose import ColumnTransformer\n",
        "from sklearn.model_selection import train_test_split\n",
        "from sklearn.pipeline import Pipeline\n",
        "\n",
        "# Copy data to avoid messing originals\n",
        "df = train_df.copy()\n",
        "test = test_df.copy()\n",
        "\n",
        "# Step 3.1: Handle 'bp' - split into systolic and diastolic (two new numeric columns)\n",
        "df[['systolic_bp', 'diastolic_bp']] = df['bp'].str.split('/', expand=True).astype(float)\n",
        "test[['systolic_bp', 'diastolic_bp']] = test['bp'].str.split('/', expand=True).astype(float)\n",
        "\n",
        "# Drop original 'bp' column\n",
        "df.drop('bp', axis=1, inplace=True)\n",
        "test.drop('bp', axis=1, inplace=True)\n",
        "\n",
        "# Step 3.2: Handle missing values (if any) - fill with median for numerics, mode for categoricals\n",
        "numeric_cols = df.select_dtypes(include=np.number).columns.tolist()\n",
        "numeric_cols.remove('heart_attack_risk')  # Don't fill target\n",
        "df[numeric_cols] = df[numeric_cols].fillna(df[numeric_cols].median())\n",
        "test[numeric_cols] = test[numeric_cols].fillna(test[numeric_cols].median())\n",
        "\n",
        "categorical_cols = ['sex', 'diet', 'country', 'continent', 'hemisphere']\n",
        "df[categorical_cols] = df[categorical_cols].fillna(df[categorical_cols].mode().iloc[0])\n",
        "test[categorical_cols] = test[categorical_cols].fillna(test[categorical_cols].mode().iloc[0])\n",
        "\n",
        "print(\"Missing values handled!\")\n",
        "\n",
        "# Step 3.3: Separate features (X) and target (y)\n",
        "X = df.drop(['patient_id', 'heart_attack_risk'], axis=1)\n",
        "y = df['heart_attack_risk']\n",
        "\n",
        "# For test: Features only (keep patient_id for output)\n",
        "X_test = test.drop('patient_id', axis=1)\n",
        "patient_ids = test['patient_id']\n",
        "\n",
        "# Step 3.4: Split train into train/val (80/20) for testing model\n",
        "X_train, X_val, y_train, y_val = train_test_split(X, y, test_size=0.2, random_state=42, stratify=y)\n",
        "\n",
        "print(\"Features shape:\", X.shape)\n",
        "print(\"Categorical columns:\", categorical_cols)\n",
        "print(\"Numeric columns (after bp split):\", [col for col in X.columns if col not in categorical_cols])"
      ],
      "metadata": {
        "colab": {
          "base_uri": "https://localhost:8080/"
        },
        "id": "XLp9AW92lj2q",
        "outputId": "d66f5f22-df64-41a2-fccb-f799d07dba4c"
      },
      "execution_count": 14,
      "outputs": [
        {
          "output_type": "stream",
          "name": "stdout",
          "text": [
            "Missing values handled!\n",
            "Features shape: (7963, 25)\n",
            "Categorical columns: ['sex', 'diet', 'country', 'continent', 'hemisphere']\n",
            "Numeric columns (after bp split): ['age', 'chol', 'hr', 'diabetes', 'family_history', 'smoking', 'obesity', 'alcohol', 'exercise_hr_wk', 'prev_heart_prob', 'med_use', 'stress_lvl', 'sedentary_hr', 'income', 'bmi', 'triglycerides', 'phys_act_days', 'sleep_hr', 'systolic_bp', 'diastolic_bp']\n"
          ]
        }
      ]
    },
    {
      "cell_type": "code",
      "source": [
        "from sklearn.ensemble import RandomForestClassifier\n",
        "from sklearn.metrics import accuracy_score, precision_score, recall_score, f1_score, roc_auc_score\n",
        "\n",
        "# Define columns again (in case)\n",
        "numeric_features = [col for col in X.columns if col not in categorical_cols]\n",
        "categorical_features = categorical_cols\n",
        "\n",
        "# Create preprocessor: Scale numerics + One-hot categoricals\n",
        "preprocessor = ColumnTransformer(\n",
        "    transformers=[\n",
        "        ('num', StandardScaler(), numeric_features),\n",
        "        ('cat', OneHotEncoder(drop='first', handle_unknown='ignore'), categorical_features)\n",
        "    ])\n",
        "\n",
        "# Create full pipeline: Prep + Model\n",
        "model = Pipeline(steps=[\n",
        "    ('preprocessor', preprocessor),\n",
        "    ('classifier', RandomForestClassifier(n_estimators=100, random_state=42))\n",
        "])\n",
        "\n",
        "# Train the model\n",
        "model.fit(X_train, y_train)\n",
        "\n",
        "print(\"Balanced Model trained!\")"
      ],
      "metadata": {
        "colab": {
          "base_uri": "https://localhost:8080/"
        },
        "id": "E9bUR-6ClqAJ",
        "outputId": "a0fef478-6492-4b25-8c9b-f7e2522cbc84"
      },
      "execution_count": 23,
      "outputs": [
        {
          "output_type": "stream",
          "name": "stdout",
          "text": [
            "Balanced Model trained!\n"
          ]
        }
      ]
    },
    {
      "cell_type": "code",
      "source": [
        "from sklearn.model_selection import GridSearchCV\n",
        "\n",
        "# Tune Random Forest (try different settings)\n",
        "param_grid = {\n",
        "    'classifier__n_estimators': [50, 100, 200],\n",
        "    'classifier__max_depth': [None, 10, 20]\n",
        "}\n",
        "grid_search = GridSearchCV(model, param_grid, cv=5, scoring='recall')\n",
        "grid_search.fit(X_train, y_train)\n",
        "\n",
        "# Use best model\n",
        "model = grid_search.best_estimator_\n",
        "print(\"Best params:\", grid_search.best_params_)\n",
        "# Then re-run Step 5 for new metrics"
      ],
      "metadata": {
        "colab": {
          "base_uri": "https://localhost:8080/"
        },
        "id": "8eWXjU_CnUKb",
        "outputId": "93f24ed1-ebf7-4f47-842d-f45600f7dc31"
      },
      "execution_count": 16,
      "outputs": [
        {
          "output_type": "stream",
          "name": "stdout",
          "text": [
            "Best params: {'classifier__max_depth': 20, 'classifier__n_estimators': 50}\n"
          ]
        }
      ]
    },
    {
      "cell_type": "code",
      "source": [
        "# Predict on val set\n",
        "y_pred = model.predict(X_val)\n",
        "y_pred_proba = model.predict_proba(X_val)[:, 1]  # For ROC-AUC\n",
        "\n",
        "# Calculate metrics\n",
        "accuracy = accuracy_score(y_val, y_pred)\n",
        "precision = precision_score(y_val, y_pred)\n",
        "recall = recall_score(y_val, y_pred)\n",
        "f1 = f1_score(y_val, y_pred)\n",
        "roc_auc = roc_auc_score(y_val, y_pred_proba)\n",
        "\n",
        "# Print results\n",
        "print(\"Training Metrics:\")\n",
        "print(f\"Accuracy: {accuracy:.4f}\")\n",
        "print(f\"Precision: {precision:.4f}\")\n",
        "print(f\"Recall: {recall:.4f}\")  # This is what they score on!\n",
        "print(f\"F1-Score: {f1:.4f}\")\n",
        "print(f\"ROC-AUC: {roc_auc:.4f}\")"
      ],
      "metadata": {
        "colab": {
          "base_uri": "https://localhost:8080/"
        },
        "id": "Ba1gUKN_lw_I",
        "outputId": "ffc8bfa0-b1ab-4c17-8ee1-9b6c02f2cfc3"
      },
      "execution_count": 24,
      "outputs": [
        {
          "output_type": "stream",
          "name": "stdout",
          "text": [
            "Training Metrics:\n",
            "Accuracy: 0.6541\n",
            "Precision: 0.4211\n",
            "Recall: 0.0146\n",
            "F1-Score: 0.0282\n",
            "ROC-AUC: 0.4976\n"
          ]
        }
      ]
    },
    {
      "cell_type": "code",
      "source": [
        "# Predict on test\n",
        "test_predictions = model.predict(X_test)\n",
        "\n",
        "# Create output DataFrame\n",
        "output_df = pd.DataFrame({\n",
        "    'patient_id': patient_ids,\n",
        "    'heart_attack_risk': test_predictions\n",
        "})\n",
        "\n",
        "# Save to CSV\n",
        "output_df.to_csv('YourTeamCode_YourTeamName_Task1_Predictions.csv', index=False)\n",
        "print(\"Predictions saved! First few rows:\")\n",
        "print(output_df.head())\n",
        "print(\"\\nDownload this file from Colab: Files > right-click > Download\")"
      ],
      "metadata": {
        "colab": {
          "base_uri": "https://localhost:8080/"
        },
        "id": "cVs8uU7jmzcH",
        "outputId": "87bcebf6-02e8-48b5-ea26-f32a673e55a9"
      },
      "execution_count": 18,
      "outputs": [
        {
          "output_type": "stream",
          "name": "stdout",
          "text": [
            "Predictions saved! First few rows:\n",
            "  patient_id  heart_attack_risk\n",
            "0    VRK5064                  0\n",
            "1    NEN2365                  0\n",
            "2    KXT2493                  0\n",
            "3    TKO0406                  0\n",
            "4    GDP2405                  0\n",
            "\n",
            "Download this file from Colab: Files > right-click > Download\n"
          ]
        }
      ]
    }
  ]
}